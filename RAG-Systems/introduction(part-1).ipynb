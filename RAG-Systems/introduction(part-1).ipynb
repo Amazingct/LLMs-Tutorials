{
 "cells": [
  {
   "cell_type": "code",
   "execution_count": 1,
   "metadata": {},
   "outputs": [],
   "source": [
    "'''\n",
    "SET UP CONDA ENVIRONMENT:\n",
    "conda create -n llms python=3.11\n",
    "conda activate llms\n",
    "pip install -r requirements.txt\n",
    "'''\n",
    "import os\n",
    "# os.environ[\"OPEN_AI_API\"] = \"\""
   ]
  },
  {
   "cell_type": "code",
   "execution_count": 2,
   "metadata": {},
   "outputs": [
    {
     "name": "stdout",
     "output_type": "stream",
     "text": [
      "Requirement already satisfied: langgraph==0.0.31 in /Users/daniel/anaconda3/envs/llms/lib/python3.11/site-packages (from -r requirements.txt (line 1)) (0.0.31)\n",
      "Requirement already satisfied: flask-socketio==5.3.6 in /Users/daniel/anaconda3/envs/llms/lib/python3.11/site-packages (from -r requirements.txt (line 2)) (5.3.6)\n",
      "Requirement already satisfied: gitpython==3.1.43 in /Users/daniel/anaconda3/envs/llms/lib/python3.11/site-packages (from -r requirements.txt (line 3)) (3.1.43)\n",
      "Requirement already satisfied: rich==13.7.1 in /Users/daniel/anaconda3/envs/llms/lib/python3.11/site-packages (from -r requirements.txt (line 4)) (13.7.1)\n",
      "Requirement already satisfied: langchain==0.1.14 in /Users/daniel/anaconda3/envs/llms/lib/python3.11/site-packages (from -r requirements.txt (line 5)) (0.1.14)\n",
      "Requirement already satisfied: langchain-openai==0.1.1 in /Users/daniel/anaconda3/envs/llms/lib/python3.11/site-packages (from -r requirements.txt (line 6)) (0.1.1)\n",
      "Requirement already satisfied: langchain-experimental==0.0.56 in /Users/daniel/anaconda3/envs/llms/lib/python3.11/site-packages (from -r requirements.txt (line 7)) (0.0.56)\n",
      "Requirement already satisfied: matplotlib==3.8.4 in /Users/daniel/anaconda3/envs/llms/lib/python3.11/site-packages (from -r requirements.txt (line 8)) (3.8.4)\n",
      "Requirement already satisfied: networkx==3.3 in /Users/daniel/anaconda3/envs/llms/lib/python3.11/site-packages (from -r requirements.txt (line 9)) (3.3)\n",
      "Requirement already satisfied: chromadb in /Users/daniel/anaconda3/envs/llms/lib/python3.11/site-packages (from -r requirements.txt (line 10)) (0.4.24)\n",
      "Requirement already satisfied: langchain-core<0.2.0,>=0.1.38 in /Users/daniel/anaconda3/envs/llms/lib/python3.11/site-packages (from langgraph==0.0.31->-r requirements.txt (line 1)) (0.1.40)\n",
      "Requirement already satisfied: Flask>=0.9 in /Users/daniel/anaconda3/envs/llms/lib/python3.11/site-packages (from flask-socketio==5.3.6->-r requirements.txt (line 2)) (3.0.3)\n",
      "Requirement already satisfied: python-socketio>=5.0.2 in /Users/daniel/anaconda3/envs/llms/lib/python3.11/site-packages (from flask-socketio==5.3.6->-r requirements.txt (line 2)) (5.11.2)\n",
      "Requirement already satisfied: gitdb<5,>=4.0.1 in /Users/daniel/anaconda3/envs/llms/lib/python3.11/site-packages (from gitpython==3.1.43->-r requirements.txt (line 3)) (4.0.11)\n",
      "Requirement already satisfied: markdown-it-py>=2.2.0 in /Users/daniel/anaconda3/envs/llms/lib/python3.11/site-packages (from rich==13.7.1->-r requirements.txt (line 4)) (3.0.0)\n",
      "Requirement already satisfied: pygments<3.0.0,>=2.13.0 in /Users/daniel/anaconda3/envs/llms/lib/python3.11/site-packages (from rich==13.7.1->-r requirements.txt (line 4)) (2.17.2)\n",
      "Requirement already satisfied: PyYAML>=5.3 in /Users/daniel/anaconda3/envs/llms/lib/python3.11/site-packages (from langchain==0.1.14->-r requirements.txt (line 5)) (6.0.1)\n",
      "Requirement already satisfied: SQLAlchemy<3,>=1.4 in /Users/daniel/anaconda3/envs/llms/lib/python3.11/site-packages (from langchain==0.1.14->-r requirements.txt (line 5)) (2.0.29)\n",
      "Requirement already satisfied: aiohttp<4.0.0,>=3.8.3 in /Users/daniel/anaconda3/envs/llms/lib/python3.11/site-packages (from langchain==0.1.14->-r requirements.txt (line 5)) (3.9.3)\n",
      "Requirement already satisfied: dataclasses-json<0.7,>=0.5.7 in /Users/daniel/anaconda3/envs/llms/lib/python3.11/site-packages (from langchain==0.1.14->-r requirements.txt (line 5)) (0.6.4)\n",
      "Requirement already satisfied: jsonpatch<2.0,>=1.33 in /Users/daniel/anaconda3/envs/llms/lib/python3.11/site-packages (from langchain==0.1.14->-r requirements.txt (line 5)) (1.33)\n",
      "Requirement already satisfied: langchain-community<0.1,>=0.0.30 in /Users/daniel/anaconda3/envs/llms/lib/python3.11/site-packages (from langchain==0.1.14->-r requirements.txt (line 5)) (0.0.31)\n",
      "Requirement already satisfied: langchain-text-splitters<0.1,>=0.0.1 in /Users/daniel/anaconda3/envs/llms/lib/python3.11/site-packages (from langchain==0.1.14->-r requirements.txt (line 5)) (0.0.1)\n",
      "Requirement already satisfied: langsmith<0.2.0,>=0.1.17 in /Users/daniel/anaconda3/envs/llms/lib/python3.11/site-packages (from langchain==0.1.14->-r requirements.txt (line 5)) (0.1.41)\n",
      "Requirement already satisfied: numpy<2,>=1 in /Users/daniel/anaconda3/envs/llms/lib/python3.11/site-packages (from langchain==0.1.14->-r requirements.txt (line 5)) (1.26.4)\n",
      "Requirement already satisfied: pydantic<3,>=1 in /Users/daniel/anaconda3/envs/llms/lib/python3.11/site-packages (from langchain==0.1.14->-r requirements.txt (line 5)) (2.6.4)\n",
      "Requirement already satisfied: requests<3,>=2 in /Users/daniel/anaconda3/envs/llms/lib/python3.11/site-packages (from langchain==0.1.14->-r requirements.txt (line 5)) (2.31.0)\n",
      "Requirement already satisfied: tenacity<9.0.0,>=8.1.0 in /Users/daniel/anaconda3/envs/llms/lib/python3.11/site-packages (from langchain==0.1.14->-r requirements.txt (line 5)) (8.2.3)\n",
      "Requirement already satisfied: openai<2.0.0,>=1.10.0 in /Users/daniel/anaconda3/envs/llms/lib/python3.11/site-packages (from langchain-openai==0.1.1->-r requirements.txt (line 6)) (1.16.2)\n",
      "Requirement already satisfied: tiktoken<1,>=0.5.2 in /Users/daniel/anaconda3/envs/llms/lib/python3.11/site-packages (from langchain-openai==0.1.1->-r requirements.txt (line 6)) (0.6.0)\n",
      "Requirement already satisfied: contourpy>=1.0.1 in /Users/daniel/anaconda3/envs/llms/lib/python3.11/site-packages (from matplotlib==3.8.4->-r requirements.txt (line 8)) (1.2.1)\n",
      "Requirement already satisfied: cycler>=0.10 in /Users/daniel/anaconda3/envs/llms/lib/python3.11/site-packages (from matplotlib==3.8.4->-r requirements.txt (line 8)) (0.12.1)\n",
      "Requirement already satisfied: fonttools>=4.22.0 in /Users/daniel/anaconda3/envs/llms/lib/python3.11/site-packages (from matplotlib==3.8.4->-r requirements.txt (line 8)) (4.51.0)\n",
      "Requirement already satisfied: kiwisolver>=1.3.1 in /Users/daniel/anaconda3/envs/llms/lib/python3.11/site-packages (from matplotlib==3.8.4->-r requirements.txt (line 8)) (1.4.5)\n",
      "Requirement already satisfied: packaging>=20.0 in /Users/daniel/anaconda3/envs/llms/lib/python3.11/site-packages (from matplotlib==3.8.4->-r requirements.txt (line 8)) (23.2)\n",
      "Requirement already satisfied: pillow>=8 in /Users/daniel/anaconda3/envs/llms/lib/python3.11/site-packages (from matplotlib==3.8.4->-r requirements.txt (line 8)) (10.3.0)\n",
      "Requirement already satisfied: pyparsing>=2.3.1 in /Users/daniel/anaconda3/envs/llms/lib/python3.11/site-packages (from matplotlib==3.8.4->-r requirements.txt (line 8)) (3.1.2)\n",
      "Requirement already satisfied: python-dateutil>=2.7 in /Users/daniel/anaconda3/envs/llms/lib/python3.11/site-packages (from matplotlib==3.8.4->-r requirements.txt (line 8)) (2.9.0)\n",
      "Requirement already satisfied: build>=1.0.3 in /Users/daniel/anaconda3/envs/llms/lib/python3.11/site-packages (from chromadb->-r requirements.txt (line 10)) (1.2.1)\n",
      "Requirement already satisfied: chroma-hnswlib==0.7.3 in /Users/daniel/anaconda3/envs/llms/lib/python3.11/site-packages (from chromadb->-r requirements.txt (line 10)) (0.7.3)\n",
      "Requirement already satisfied: fastapi>=0.95.2 in /Users/daniel/anaconda3/envs/llms/lib/python3.11/site-packages (from chromadb->-r requirements.txt (line 10)) (0.110.1)\n",
      "Requirement already satisfied: uvicorn>=0.18.3 in /Users/daniel/anaconda3/envs/llms/lib/python3.11/site-packages (from uvicorn[standard]>=0.18.3->chromadb->-r requirements.txt (line 10)) (0.29.0)\n",
      "Requirement already satisfied: posthog>=2.4.0 in /Users/daniel/anaconda3/envs/llms/lib/python3.11/site-packages (from chromadb->-r requirements.txt (line 10)) (3.5.0)\n",
      "Requirement already satisfied: typing-extensions>=4.5.0 in /Users/daniel/anaconda3/envs/llms/lib/python3.11/site-packages (from chromadb->-r requirements.txt (line 10)) (4.11.0)\n",
      "Requirement already satisfied: pulsar-client>=3.1.0 in /Users/daniel/anaconda3/envs/llms/lib/python3.11/site-packages (from chromadb->-r requirements.txt (line 10)) (3.4.0)\n",
      "Requirement already satisfied: onnxruntime>=1.14.1 in /Users/daniel/anaconda3/envs/llms/lib/python3.11/site-packages (from chromadb->-r requirements.txt (line 10)) (1.17.1)\n",
      "Requirement already satisfied: opentelemetry-api>=1.2.0 in /Users/daniel/anaconda3/envs/llms/lib/python3.11/site-packages (from chromadb->-r requirements.txt (line 10)) (1.24.0)\n",
      "Requirement already satisfied: opentelemetry-exporter-otlp-proto-grpc>=1.2.0 in /Users/daniel/anaconda3/envs/llms/lib/python3.11/site-packages (from chromadb->-r requirements.txt (line 10)) (1.24.0)\n",
      "Requirement already satisfied: opentelemetry-instrumentation-fastapi>=0.41b0 in /Users/daniel/anaconda3/envs/llms/lib/python3.11/site-packages (from chromadb->-r requirements.txt (line 10)) (0.45b0)\n",
      "Requirement already satisfied: opentelemetry-sdk>=1.2.0 in /Users/daniel/anaconda3/envs/llms/lib/python3.11/site-packages (from chromadb->-r requirements.txt (line 10)) (1.24.0)\n",
      "Requirement already satisfied: tokenizers>=0.13.2 in /Users/daniel/anaconda3/envs/llms/lib/python3.11/site-packages (from chromadb->-r requirements.txt (line 10)) (0.15.2)\n",
      "Requirement already satisfied: pypika>=0.48.9 in /Users/daniel/anaconda3/envs/llms/lib/python3.11/site-packages (from chromadb->-r requirements.txt (line 10)) (0.48.9)\n",
      "Requirement already satisfied: tqdm>=4.65.0 in /Users/daniel/anaconda3/envs/llms/lib/python3.11/site-packages (from chromadb->-r requirements.txt (line 10)) (4.66.2)\n",
      "Requirement already satisfied: overrides>=7.3.1 in /Users/daniel/anaconda3/envs/llms/lib/python3.11/site-packages (from chromadb->-r requirements.txt (line 10)) (7.7.0)\n",
      "Requirement already satisfied: importlib-resources in /Users/daniel/anaconda3/envs/llms/lib/python3.11/site-packages (from chromadb->-r requirements.txt (line 10)) (6.4.0)\n",
      "Requirement already satisfied: grpcio>=1.58.0 in /Users/daniel/anaconda3/envs/llms/lib/python3.11/site-packages (from chromadb->-r requirements.txt (line 10)) (1.62.1)\n",
      "Requirement already satisfied: bcrypt>=4.0.1 in /Users/daniel/anaconda3/envs/llms/lib/python3.11/site-packages (from chromadb->-r requirements.txt (line 10)) (4.1.2)\n",
      "Requirement already satisfied: typer>=0.9.0 in /Users/daniel/anaconda3/envs/llms/lib/python3.11/site-packages (from chromadb->-r requirements.txt (line 10)) (0.12.2)\n",
      "Requirement already satisfied: kubernetes>=28.1.0 in /Users/daniel/anaconda3/envs/llms/lib/python3.11/site-packages (from chromadb->-r requirements.txt (line 10)) (29.0.0)\n",
      "Requirement already satisfied: mmh3>=4.0.1 in /Users/daniel/anaconda3/envs/llms/lib/python3.11/site-packages (from chromadb->-r requirements.txt (line 10)) (4.1.0)\n",
      "Requirement already satisfied: orjson>=3.9.12 in /Users/daniel/anaconda3/envs/llms/lib/python3.11/site-packages (from chromadb->-r requirements.txt (line 10)) (3.10.0)\n",
      "Requirement already satisfied: aiosignal>=1.1.2 in /Users/daniel/anaconda3/envs/llms/lib/python3.11/site-packages (from aiohttp<4.0.0,>=3.8.3->langchain==0.1.14->-r requirements.txt (line 5)) (1.3.1)\n",
      "Requirement already satisfied: attrs>=17.3.0 in /Users/daniel/anaconda3/envs/llms/lib/python3.11/site-packages (from aiohttp<4.0.0,>=3.8.3->langchain==0.1.14->-r requirements.txt (line 5)) (23.2.0)\n",
      "Requirement already satisfied: frozenlist>=1.1.1 in /Users/daniel/anaconda3/envs/llms/lib/python3.11/site-packages (from aiohttp<4.0.0,>=3.8.3->langchain==0.1.14->-r requirements.txt (line 5)) (1.4.1)\n",
      "Requirement already satisfied: multidict<7.0,>=4.5 in /Users/daniel/anaconda3/envs/llms/lib/python3.11/site-packages (from aiohttp<4.0.0,>=3.8.3->langchain==0.1.14->-r requirements.txt (line 5)) (6.0.5)\n",
      "Requirement already satisfied: yarl<2.0,>=1.0 in /Users/daniel/anaconda3/envs/llms/lib/python3.11/site-packages (from aiohttp<4.0.0,>=3.8.3->langchain==0.1.14->-r requirements.txt (line 5)) (1.9.4)\n",
      "Requirement already satisfied: pyproject_hooks in /Users/daniel/anaconda3/envs/llms/lib/python3.11/site-packages (from build>=1.0.3->chromadb->-r requirements.txt (line 10)) (1.0.0)\n",
      "Requirement already satisfied: marshmallow<4.0.0,>=3.18.0 in /Users/daniel/anaconda3/envs/llms/lib/python3.11/site-packages (from dataclasses-json<0.7,>=0.5.7->langchain==0.1.14->-r requirements.txt (line 5)) (3.21.1)\n",
      "Requirement already satisfied: typing-inspect<1,>=0.4.0 in /Users/daniel/anaconda3/envs/llms/lib/python3.11/site-packages (from dataclasses-json<0.7,>=0.5.7->langchain==0.1.14->-r requirements.txt (line 5)) (0.9.0)\n",
      "Requirement already satisfied: starlette<0.38.0,>=0.37.2 in /Users/daniel/anaconda3/envs/llms/lib/python3.11/site-packages (from fastapi>=0.95.2->chromadb->-r requirements.txt (line 10)) (0.37.2)\n",
      "Requirement already satisfied: Werkzeug>=3.0.0 in /Users/daniel/anaconda3/envs/llms/lib/python3.11/site-packages (from Flask>=0.9->flask-socketio==5.3.6->-r requirements.txt (line 2)) (3.0.2)\n",
      "Requirement already satisfied: Jinja2>=3.1.2 in /Users/daniel/anaconda3/envs/llms/lib/python3.11/site-packages (from Flask>=0.9->flask-socketio==5.3.6->-r requirements.txt (line 2)) (3.1.3)\n",
      "Requirement already satisfied: itsdangerous>=2.1.2 in /Users/daniel/anaconda3/envs/llms/lib/python3.11/site-packages (from Flask>=0.9->flask-socketio==5.3.6->-r requirements.txt (line 2)) (2.1.2)\n",
      "Requirement already satisfied: click>=8.1.3 in /Users/daniel/anaconda3/envs/llms/lib/python3.11/site-packages (from Flask>=0.9->flask-socketio==5.3.6->-r requirements.txt (line 2)) (8.1.7)\n",
      "Requirement already satisfied: blinker>=1.6.2 in /Users/daniel/anaconda3/envs/llms/lib/python3.11/site-packages (from Flask>=0.9->flask-socketio==5.3.6->-r requirements.txt (line 2)) (1.7.0)\n",
      "Requirement already satisfied: smmap<6,>=3.0.1 in /Users/daniel/anaconda3/envs/llms/lib/python3.11/site-packages (from gitdb<5,>=4.0.1->gitpython==3.1.43->-r requirements.txt (line 3)) (5.0.1)\n",
      "Requirement already satisfied: jsonpointer>=1.9 in /Users/daniel/anaconda3/envs/llms/lib/python3.11/site-packages (from jsonpatch<2.0,>=1.33->langchain==0.1.14->-r requirements.txt (line 5)) (2.4)\n",
      "Requirement already satisfied: certifi>=14.05.14 in /Users/daniel/anaconda3/envs/llms/lib/python3.11/site-packages (from kubernetes>=28.1.0->chromadb->-r requirements.txt (line 10)) (2024.2.2)\n",
      "Requirement already satisfied: six>=1.9.0 in /Users/daniel/anaconda3/envs/llms/lib/python3.11/site-packages (from kubernetes>=28.1.0->chromadb->-r requirements.txt (line 10)) (1.16.0)\n",
      "Requirement already satisfied: google-auth>=1.0.1 in /Users/daniel/anaconda3/envs/llms/lib/python3.11/site-packages (from kubernetes>=28.1.0->chromadb->-r requirements.txt (line 10)) (2.29.0)\n",
      "Requirement already satisfied: websocket-client!=0.40.0,!=0.41.*,!=0.42.*,>=0.32.0 in /Users/daniel/anaconda3/envs/llms/lib/python3.11/site-packages (from kubernetes>=28.1.0->chromadb->-r requirements.txt (line 10)) (1.7.0)\n",
      "Requirement already satisfied: requests-oauthlib in /Users/daniel/anaconda3/envs/llms/lib/python3.11/site-packages (from kubernetes>=28.1.0->chromadb->-r requirements.txt (line 10)) (2.0.0)\n",
      "Requirement already satisfied: oauthlib>=3.2.2 in /Users/daniel/anaconda3/envs/llms/lib/python3.11/site-packages (from kubernetes>=28.1.0->chromadb->-r requirements.txt (line 10)) (3.2.2)\n",
      "Requirement already satisfied: urllib3>=1.24.2 in /Users/daniel/anaconda3/envs/llms/lib/python3.11/site-packages (from kubernetes>=28.1.0->chromadb->-r requirements.txt (line 10)) (2.2.1)\n",
      "Requirement already satisfied: mdurl~=0.1 in /Users/daniel/anaconda3/envs/llms/lib/python3.11/site-packages (from markdown-it-py>=2.2.0->rich==13.7.1->-r requirements.txt (line 4)) (0.1.2)\n",
      "Requirement already satisfied: coloredlogs in /Users/daniel/anaconda3/envs/llms/lib/python3.11/site-packages (from onnxruntime>=1.14.1->chromadb->-r requirements.txt (line 10)) (15.0.1)\n",
      "Requirement already satisfied: flatbuffers in /Users/daniel/anaconda3/envs/llms/lib/python3.11/site-packages (from onnxruntime>=1.14.1->chromadb->-r requirements.txt (line 10)) (24.3.25)\n",
      "Requirement already satisfied: protobuf in /Users/daniel/anaconda3/envs/llms/lib/python3.11/site-packages (from onnxruntime>=1.14.1->chromadb->-r requirements.txt (line 10)) (4.25.3)\n",
      "Requirement already satisfied: sympy in /Users/daniel/anaconda3/envs/llms/lib/python3.11/site-packages (from onnxruntime>=1.14.1->chromadb->-r requirements.txt (line 10)) (1.12)\n",
      "Requirement already satisfied: anyio<5,>=3.5.0 in /Users/daniel/anaconda3/envs/llms/lib/python3.11/site-packages (from openai<2.0.0,>=1.10.0->langchain-openai==0.1.1->-r requirements.txt (line 6)) (4.3.0)\n",
      "Requirement already satisfied: distro<2,>=1.7.0 in /Users/daniel/anaconda3/envs/llms/lib/python3.11/site-packages (from openai<2.0.0,>=1.10.0->langchain-openai==0.1.1->-r requirements.txt (line 6)) (1.9.0)\n",
      "Requirement already satisfied: httpx<1,>=0.23.0 in /Users/daniel/anaconda3/envs/llms/lib/python3.11/site-packages (from openai<2.0.0,>=1.10.0->langchain-openai==0.1.1->-r requirements.txt (line 6)) (0.27.0)\n",
      "Requirement already satisfied: sniffio in /Users/daniel/anaconda3/envs/llms/lib/python3.11/site-packages (from openai<2.0.0,>=1.10.0->langchain-openai==0.1.1->-r requirements.txt (line 6)) (1.3.1)\n",
      "Requirement already satisfied: deprecated>=1.2.6 in /Users/daniel/anaconda3/envs/llms/lib/python3.11/site-packages (from opentelemetry-api>=1.2.0->chromadb->-r requirements.txt (line 10)) (1.2.14)\n",
      "Requirement already satisfied: importlib-metadata<=7.0,>=6.0 in /Users/daniel/anaconda3/envs/llms/lib/python3.11/site-packages (from opentelemetry-api>=1.2.0->chromadb->-r requirements.txt (line 10)) (7.0.0)\n",
      "Requirement already satisfied: googleapis-common-protos~=1.52 in /Users/daniel/anaconda3/envs/llms/lib/python3.11/site-packages (from opentelemetry-exporter-otlp-proto-grpc>=1.2.0->chromadb->-r requirements.txt (line 10)) (1.63.0)\n",
      "Requirement already satisfied: opentelemetry-exporter-otlp-proto-common==1.24.0 in /Users/daniel/anaconda3/envs/llms/lib/python3.11/site-packages (from opentelemetry-exporter-otlp-proto-grpc>=1.2.0->chromadb->-r requirements.txt (line 10)) (1.24.0)\n",
      "Requirement already satisfied: opentelemetry-proto==1.24.0 in /Users/daniel/anaconda3/envs/llms/lib/python3.11/site-packages (from opentelemetry-exporter-otlp-proto-grpc>=1.2.0->chromadb->-r requirements.txt (line 10)) (1.24.0)\n",
      "Requirement already satisfied: opentelemetry-instrumentation-asgi==0.45b0 in /Users/daniel/anaconda3/envs/llms/lib/python3.11/site-packages (from opentelemetry-instrumentation-fastapi>=0.41b0->chromadb->-r requirements.txt (line 10)) (0.45b0)\n",
      "Requirement already satisfied: opentelemetry-instrumentation==0.45b0 in /Users/daniel/anaconda3/envs/llms/lib/python3.11/site-packages (from opentelemetry-instrumentation-fastapi>=0.41b0->chromadb->-r requirements.txt (line 10)) (0.45b0)\n",
      "Requirement already satisfied: opentelemetry-semantic-conventions==0.45b0 in /Users/daniel/anaconda3/envs/llms/lib/python3.11/site-packages (from opentelemetry-instrumentation-fastapi>=0.41b0->chromadb->-r requirements.txt (line 10)) (0.45b0)\n",
      "Requirement already satisfied: opentelemetry-util-http==0.45b0 in /Users/daniel/anaconda3/envs/llms/lib/python3.11/site-packages (from opentelemetry-instrumentation-fastapi>=0.41b0->chromadb->-r requirements.txt (line 10)) (0.45b0)\n",
      "Requirement already satisfied: setuptools>=16.0 in /Users/daniel/anaconda3/envs/llms/lib/python3.11/site-packages (from opentelemetry-instrumentation==0.45b0->opentelemetry-instrumentation-fastapi>=0.41b0->chromadb->-r requirements.txt (line 10)) (69.2.0)\n",
      "Requirement already satisfied: wrapt<2.0.0,>=1.0.0 in /Users/daniel/anaconda3/envs/llms/lib/python3.11/site-packages (from opentelemetry-instrumentation==0.45b0->opentelemetry-instrumentation-fastapi>=0.41b0->chromadb->-r requirements.txt (line 10)) (1.16.0)\n",
      "Requirement already satisfied: asgiref~=3.0 in /Users/daniel/anaconda3/envs/llms/lib/python3.11/site-packages (from opentelemetry-instrumentation-asgi==0.45b0->opentelemetry-instrumentation-fastapi>=0.41b0->chromadb->-r requirements.txt (line 10)) (3.8.1)\n",
      "Requirement already satisfied: monotonic>=1.5 in /Users/daniel/anaconda3/envs/llms/lib/python3.11/site-packages (from posthog>=2.4.0->chromadb->-r requirements.txt (line 10)) (1.6)\n",
      "Requirement already satisfied: backoff>=1.10.0 in /Users/daniel/anaconda3/envs/llms/lib/python3.11/site-packages (from posthog>=2.4.0->chromadb->-r requirements.txt (line 10)) (2.2.1)\n",
      "Requirement already satisfied: annotated-types>=0.4.0 in /Users/daniel/anaconda3/envs/llms/lib/python3.11/site-packages (from pydantic<3,>=1->langchain==0.1.14->-r requirements.txt (line 5)) (0.6.0)\n",
      "Requirement already satisfied: pydantic-core==2.16.3 in /Users/daniel/anaconda3/envs/llms/lib/python3.11/site-packages (from pydantic<3,>=1->langchain==0.1.14->-r requirements.txt (line 5)) (2.16.3)\n",
      "Requirement already satisfied: bidict>=0.21.0 in /Users/daniel/anaconda3/envs/llms/lib/python3.11/site-packages (from python-socketio>=5.0.2->flask-socketio==5.3.6->-r requirements.txt (line 2)) (0.23.1)\n",
      "Requirement already satisfied: python-engineio>=4.8.0 in /Users/daniel/anaconda3/envs/llms/lib/python3.11/site-packages (from python-socketio>=5.0.2->flask-socketio==5.3.6->-r requirements.txt (line 2)) (4.9.0)\n",
      "Requirement already satisfied: charset-normalizer<4,>=2 in /Users/daniel/anaconda3/envs/llms/lib/python3.11/site-packages (from requests<3,>=2->langchain==0.1.14->-r requirements.txt (line 5)) (3.3.2)\n",
      "Requirement already satisfied: idna<4,>=2.5 in /Users/daniel/anaconda3/envs/llms/lib/python3.11/site-packages (from requests<3,>=2->langchain==0.1.14->-r requirements.txt (line 5)) (3.6)\n",
      "Requirement already satisfied: regex>=2022.1.18 in /Users/daniel/anaconda3/envs/llms/lib/python3.11/site-packages (from tiktoken<1,>=0.5.2->langchain-openai==0.1.1->-r requirements.txt (line 6)) (2023.12.25)\n",
      "Requirement already satisfied: huggingface_hub<1.0,>=0.16.4 in /Users/daniel/anaconda3/envs/llms/lib/python3.11/site-packages (from tokenizers>=0.13.2->chromadb->-r requirements.txt (line 10)) (0.22.2)\n",
      "Requirement already satisfied: shellingham>=1.3.0 in /Users/daniel/anaconda3/envs/llms/lib/python3.11/site-packages (from typer>=0.9.0->chromadb->-r requirements.txt (line 10)) (1.5.4)\n",
      "Requirement already satisfied: h11>=0.8 in /Users/daniel/anaconda3/envs/llms/lib/python3.11/site-packages (from uvicorn>=0.18.3->uvicorn[standard]>=0.18.3->chromadb->-r requirements.txt (line 10)) (0.14.0)\n",
      "Requirement already satisfied: httptools>=0.5.0 in /Users/daniel/anaconda3/envs/llms/lib/python3.11/site-packages (from uvicorn[standard]>=0.18.3->chromadb->-r requirements.txt (line 10)) (0.6.1)\n",
      "Requirement already satisfied: python-dotenv>=0.13 in /Users/daniel/anaconda3/envs/llms/lib/python3.11/site-packages (from uvicorn[standard]>=0.18.3->chromadb->-r requirements.txt (line 10)) (1.0.1)\n",
      "Requirement already satisfied: uvloop!=0.15.0,!=0.15.1,>=0.14.0 in /Users/daniel/anaconda3/envs/llms/lib/python3.11/site-packages (from uvicorn[standard]>=0.18.3->chromadb->-r requirements.txt (line 10)) (0.19.0)\n",
      "Requirement already satisfied: watchfiles>=0.13 in /Users/daniel/anaconda3/envs/llms/lib/python3.11/site-packages (from uvicorn[standard]>=0.18.3->chromadb->-r requirements.txt (line 10)) (0.21.0)\n",
      "Requirement already satisfied: websockets>=10.4 in /Users/daniel/anaconda3/envs/llms/lib/python3.11/site-packages (from uvicorn[standard]>=0.18.3->chromadb->-r requirements.txt (line 10)) (12.0)\n",
      "Requirement already satisfied: cachetools<6.0,>=2.0.0 in /Users/daniel/anaconda3/envs/llms/lib/python3.11/site-packages (from google-auth>=1.0.1->kubernetes>=28.1.0->chromadb->-r requirements.txt (line 10)) (5.3.3)\n",
      "Requirement already satisfied: pyasn1-modules>=0.2.1 in /Users/daniel/anaconda3/envs/llms/lib/python3.11/site-packages (from google-auth>=1.0.1->kubernetes>=28.1.0->chromadb->-r requirements.txt (line 10)) (0.4.0)\n",
      "Requirement already satisfied: rsa<5,>=3.1.4 in /Users/daniel/anaconda3/envs/llms/lib/python3.11/site-packages (from google-auth>=1.0.1->kubernetes>=28.1.0->chromadb->-r requirements.txt (line 10)) (4.9)\n",
      "Requirement already satisfied: httpcore==1.* in /Users/daniel/anaconda3/envs/llms/lib/python3.11/site-packages (from httpx<1,>=0.23.0->openai<2.0.0,>=1.10.0->langchain-openai==0.1.1->-r requirements.txt (line 6)) (1.0.5)\n",
      "Requirement already satisfied: filelock in /Users/daniel/anaconda3/envs/llms/lib/python3.11/site-packages (from huggingface_hub<1.0,>=0.16.4->tokenizers>=0.13.2->chromadb->-r requirements.txt (line 10)) (3.13.3)\n",
      "Requirement already satisfied: fsspec>=2023.5.0 in /Users/daniel/anaconda3/envs/llms/lib/python3.11/site-packages (from huggingface_hub<1.0,>=0.16.4->tokenizers>=0.13.2->chromadb->-r requirements.txt (line 10)) (2024.3.1)\n",
      "Requirement already satisfied: zipp>=0.5 in /Users/daniel/anaconda3/envs/llms/lib/python3.11/site-packages (from importlib-metadata<=7.0,>=6.0->opentelemetry-api>=1.2.0->chromadb->-r requirements.txt (line 10)) (3.17.0)\n",
      "Requirement already satisfied: MarkupSafe>=2.0 in /Users/daniel/anaconda3/envs/llms/lib/python3.11/site-packages (from Jinja2>=3.1.2->Flask>=0.9->flask-socketio==5.3.6->-r requirements.txt (line 2)) (2.1.5)\n",
      "Requirement already satisfied: simple-websocket>=0.10.0 in /Users/daniel/anaconda3/envs/llms/lib/python3.11/site-packages (from python-engineio>=4.8.0->python-socketio>=5.0.2->flask-socketio==5.3.6->-r requirements.txt (line 2)) (1.0.0)\n",
      "Requirement already satisfied: mypy-extensions>=0.3.0 in /Users/daniel/anaconda3/envs/llms/lib/python3.11/site-packages (from typing-inspect<1,>=0.4.0->dataclasses-json<0.7,>=0.5.7->langchain==0.1.14->-r requirements.txt (line 5)) (1.0.0)\n",
      "Requirement already satisfied: humanfriendly>=9.1 in /Users/daniel/anaconda3/envs/llms/lib/python3.11/site-packages (from coloredlogs->onnxruntime>=1.14.1->chromadb->-r requirements.txt (line 10)) (10.0)\n",
      "Requirement already satisfied: mpmath>=0.19 in /Users/daniel/anaconda3/envs/llms/lib/python3.11/site-packages (from sympy->onnxruntime>=1.14.1->chromadb->-r requirements.txt (line 10)) (1.3.0)\n",
      "Requirement already satisfied: pyasn1<0.7.0,>=0.4.6 in /Users/daniel/anaconda3/envs/llms/lib/python3.11/site-packages (from pyasn1-modules>=0.2.1->google-auth>=1.0.1->kubernetes>=28.1.0->chromadb->-r requirements.txt (line 10)) (0.6.0)\n",
      "Requirement already satisfied: wsproto in /Users/daniel/anaconda3/envs/llms/lib/python3.11/site-packages (from simple-websocket>=0.10.0->python-engineio>=4.8.0->python-socketio>=5.0.2->flask-socketio==5.3.6->-r requirements.txt (line 2)) (1.2.0)\n",
      "Note: you may need to restart the kernel to use updated packages.\n"
     ]
    }
   ],
   "source": [
    "%pip install -r requirements.txt"
   ]
  },
  {
   "cell_type": "code",
   "execution_count": 3,
   "metadata": {},
   "outputs": [],
   "source": [
    "from langchain_openai import ChatOpenAI\n",
    "from langchain_core.messages import (\n",
    "    AIMessage,\n",
    "    HumanMessage,\n",
    "    SystemMessage\n",
    ")\n",
    "\n",
    "llm = ChatOpenAI(model=\"gpt-4-1106-preview\")\n",
    "\n",
    "\n"
   ]
  },
  {
   "cell_type": "code",
   "execution_count": 4,
   "metadata": {},
   "outputs": [],
   "source": [
    "messages = []\n",
    "messages.append(\n",
    "    SystemMessage(content=\"You are an helpful AI Assistant\")\n",
    ")\n",
    "input_message = HumanMessage(content=\"Who is Daniel?\")\n",
    "messages.append(input_message)\n"
   ]
  },
  {
   "cell_type": "code",
   "execution_count": 5,
   "metadata": {},
   "outputs": [
    {
     "name": "stdout",
     "output_type": "stream",
     "text": [
      "content=\"The name Daniel is quite common, so there are many individuals who could be referred to by that name. In a historical or cultural context, Daniel might refer to the biblical figure known for his unwavering faith in God as portrayed in the Book of Daniel. In this book, he survives a den of lions due to his faith.\\n\\nIn contemporary times, Daniel could refer to any number of public figures, celebrities, or professionals. Without more specific information, it's not possible to determine exactly who you are referring to. If you provide more context or a last name, I can give you more detailed information about a particular Daniel.\" response_metadata={'token_usage': {'completion_tokens': 126, 'prompt_tokens': 21, 'total_tokens': 147}, 'model_name': 'gpt-4-1106-preview', 'system_fingerprint': 'fp_89f117abc5', 'finish_reason': 'stop', 'logprobs': None} id='run-d8f24eb8-4add-464d-9082-601d8da76c8d-0'\n"
     ]
    }
   ],
   "source": [
    "response = llm.invoke(messages)\n",
    "print(response)"
   ]
  },
  {
   "cell_type": "code",
   "execution_count": 6,
   "metadata": {},
   "outputs": [
    {
     "name": "stdout",
     "output_type": "stream",
     "text": [
      "content=\"Daniel is an AI (Artificial Intelligence) and IoT (Internet of Things) engineer. He works for Google, where he likely engages in designing, developing, and maintaining AI algorithms and IoT systems. These systems could range from smart devices and robotics to complex machine learning models and data analysis tools. Since he is working for a company like Google, he probably works on cutting-edge projects that could involve bringing intelligent features to various devices, improving Google's services with AI, or contributing to the broader field of AI and IoT through research and development.\" response_metadata={'token_usage': {'completion_tokens': 108, 'prompt_tokens': 71, 'total_tokens': 179}, 'model_name': 'gpt-4-1106-preview', 'system_fingerprint': 'fp_89f117abc5', 'finish_reason': 'stop', 'logprobs': None} id='run-8405b5b9-28a6-4a19-b530-930b4adfce86-0'\n"
     ]
    }
   ],
   "source": [
    "'''\n",
    "- Expensive\n",
    "- Context Window\n",
    "- Slow\n",
    "- Unnecessary Information (user might only be intrested in age etc)\n",
    "'''\n",
    "\n",
    "messages = []\n",
    "messages.append(\n",
    "    SystemMessage(content='''\n",
    "                  \n",
    "                  You are an helpful AI Assistant who is designed to tell user the life story of Daniel and\n",
    "                  answer questions about him.\n",
    "                  \n",
    "                  Context:\n",
    "                  Daniel is an AI and IoT engineer, He is 40 years old and he works for Google\n",
    "                  \n",
    "                  ''')\n",
    ")\n",
    "input_message = HumanMessage(content=\"Who does dan do?\")\n",
    "messages.append(input_message)\n",
    "response = llm.invoke(messages)\n",
    "print(response)"
   ]
  },
  {
   "cell_type": "code",
   "execution_count": 7,
   "metadata": {},
   "outputs": [
    {
     "name": "stdout",
     "output_type": "stream",
     "text": [
      "Daniel is 45 years old.\n"
     ]
    }
   ],
   "source": [
    "context_db = [\n",
    "    \"Daniel is 45 years old\",\n",
    "    \"Daniel works in tech\"\n",
    "    \"Daniel is a developer\"\n",
    "]\n",
    "\n",
    "users_question = \"How old is Daniel\"\n",
    "\n",
    "messages = []\n",
    "messages.append(\n",
    "    SystemMessage(content='''\n",
    "                  You are an helpful AI Assistant who is designed to tell user the life story of Daniel and\n",
    "                  answer questions about him, use the context provided to answer the question..\n",
    "                  ''')\n",
    ")\n",
    "\n",
    "input_message = f''' Here is the context: {context_db[0]} and this is the question {users_question}'''\n",
    "\n",
    "\n",
    "input_message = HumanMessage(content=input_message)\n",
    "messages.append(input_message)\n",
    "response = llm.invoke(messages)\n",
    "print(response.content)"
   ]
  },
  {
   "cell_type": "code",
   "execution_count": 8,
   "metadata": {},
   "outputs": [
    {
     "name": "stdout",
     "output_type": "stream",
     "text": [
      "Without context about Daniel, such as his birth date or current age, I'm unable to determine how long he has spent on Earth. If you provide me with more information about Daniel, I would be happy to assist you with your question.\n"
     ]
    }
   ],
   "source": [
    "context_db = [\n",
    "    \"Daniel is 45 years old\",\n",
    "    \"Daniel works in tech\"\n",
    "    \"Daniel is a developer\"\n",
    "]\n",
    "\n",
    "def context_search(context_list, question):\n",
    "    for context in context_list:\n",
    "        if any(word in context for word in question.split()):\n",
    "            print(\"Using: \", context)\n",
    "            return context\n",
    "\n",
    "users_question = \"how long has he spent on earth?\"\n",
    "\n",
    "messages = []\n",
    "messages.append(\n",
    "SystemMessage(content='''\n",
    "You are an helpful AI Assistant who is designed to tell user the life story of Daniel and\n",
    "answer questions about him, use the context provided to answer the question..''')\n",
    ")\n",
    "\n",
    "input_message = f'''Here is the context: {context_search(context_db, users_question)} and this is the question {users_question}'''\n",
    "\n",
    "\n",
    "input_message = HumanMessage(content=input_message)\n",
    "messages.append(input_message)\n",
    "response = llm.invoke(messages)\n",
    "print(response.content)"
   ]
  },
  {
   "cell_type": "code",
   "execution_count": 27,
   "metadata": {},
   "outputs": [
    {
     "data": {
      "text/plain": [
       "[SystemMessage(content='\\nYou are an helpful AI Assistant who is designed to tell user the life story of Daniel and\\nanswer questions about him, use the context provided to answer the question..'),\n",
       " HumanMessage(content='Here is the context: Daniel is 45 years old and this is the question How old is he?')]"
      ]
     },
     "execution_count": 27,
     "metadata": {},
     "output_type": "execute_result"
    }
   ],
   "source": [
    "messages"
   ]
  },
  {
   "cell_type": "code",
   "execution_count": null,
   "metadata": {},
   "outputs": [],
   "source": []
  },
  {
   "cell_type": "code",
   "execution_count": null,
   "metadata": {},
   "outputs": [],
   "source": []
  }
 ],
 "metadata": {
  "kernelspec": {
   "display_name": "llms",
   "language": "python",
   "name": "python3"
  },
  "language_info": {
   "codemirror_mode": {
    "name": "ipython",
    "version": 3
   },
   "file_extension": ".py",
   "mimetype": "text/x-python",
   "name": "python",
   "nbconvert_exporter": "python",
   "pygments_lexer": "ipython3",
   "version": "3.11.8"
  }
 },
 "nbformat": 4,
 "nbformat_minor": 2
}
